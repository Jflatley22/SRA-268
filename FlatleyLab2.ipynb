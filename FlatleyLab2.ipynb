{
  "nbformat": 4,
  "nbformat_minor": 0,
  "metadata": {
    "colab": {
      "name": "FlatleyLab2.ipynb",
      "provenance": [],
      "collapsed_sections": [],
      "include_colab_link": true
    },
    "kernelspec": {
      "name": "python3",
      "display_name": "Python 3"
    }
  },
  "cells": [
    {
      "cell_type": "markdown",
      "metadata": {
        "id": "view-in-github",
        "colab_type": "text"
      },
      "source": [
        "<a href=\"https://colab.research.google.com/github/Jflatley22/SRA-268/blob/master/FlatleyLab2.ipynb\" target=\"_parent\"><img src=\"https://colab.research.google.com/assets/colab-badge.svg\" alt=\"Open In Colab\"/></a>"
      ]
    },
    {
      "cell_type": "markdown",
      "metadata": {
        "id": "6sOc4Uyr4U-Z",
        "colab_type": "text"
      },
      "source": [
        "## Graph Types"
      ]
    },
    {
      "cell_type": "markdown",
      "metadata": {
        "id": "0zZdVLAd5CYr",
        "colab_type": "text"
      },
      "source": [
        "Creator\n",
        "* Jonathan Flatley"
      ]
    },
    {
      "cell_type": "markdown",
      "metadata": {
        "id": "g-r6Clq45Hn4",
        "colab_type": "text"
      },
      "source": [
        "### Deviation\n"
      ]
    },
    {
      "cell_type": "markdown",
      "metadata": {
        "id": "2gorxo6E7A0t",
        "colab_type": "text"
      },
      "source": [
        "![alt text](https://raw.githubusercontent.com/sprib012/SRA268/master/Download%20Image-5.png)"
      ]
    },
    {
      "cell_type": "markdown",
      "metadata": {
        "id": "w6bZ_NEi7E3w",
        "colab_type": "text"
      },
      "source": [
        "#### What is this telling us?"
      ]
    },
    {
      "cell_type": "markdown",
      "metadata": {
        "id": "95L-spaC7QHF",
        "colab_type": "text"
      },
      "source": [
        "The graph above compares five different teams and the amount of points that they scored in both the 2011 and 2012 season. This graph makes it not only easier to compare the two seasons, but also how these five teams fared point wise in both of these seasons. In the 2011 season, these teams generally scored more points than they did in the 2012 season. This good be a result of the different rosters on each team and how they varied between the two seasons. The graph also shows who scored the most points each of these seasons and who scored the least. "
      ]
    },
    {
      "cell_type": "markdown",
      "metadata": {
        "id": "YgXyXjmz7cDP",
        "colab_type": "text"
      },
      "source": [
        "### Correlation\n"
      ]
    },
    {
      "cell_type": "markdown",
      "metadata": {
        "id": "SGx15rZq7hvt",
        "colab_type": "text"
      },
      "source": [
        "![alt text](https://raw.githubusercontent.com/Jflatley22/SRA-268/master/images/Correlation.png)"
      ]
    },
    {
      "cell_type": "markdown",
      "metadata": {
        "id": "dljjONNi7jmj",
        "colab_type": "text"
      },
      "source": [
        "#### What is this telling us?"
      ]
    },
    {
      "cell_type": "markdown",
      "metadata": {
        "id": "PwZEZrFB7laG",
        "colab_type": "text"
      },
      "source": [
        "The correlation graph shown above shows the total amount of points each seed had from games that they won. There is a correlation, despite a few exceptions, between each seed and points scored. The higher the team is seeded, the more points that they scored. While on the other hand, the lower seeded teams have a lot less accumulated points than the higher seeded teams. This could be for multiple reasons such as the higher seeds playing in more games, and the higher seeds being better teams therefore scoring more points. The points on the plot also fade from dark blue to light to show that the darker the dot, the more points that were scored."
      ]
    },
    {
      "cell_type": "markdown",
      "metadata": {
        "id": "MqUdI-uL7r2s",
        "colab_type": "text"
      },
      "source": [
        "### Ranking\n"
      ]
    },
    {
      "cell_type": "markdown",
      "metadata": {
        "id": "AvlxCOVt7x9F",
        "colab_type": "text"
      },
      "source": [
        "![alt text](https://raw.githubusercontent.com/sprib012/SRA268/master/Download%20Image-3.png)"
      ]
    },
    {
      "cell_type": "markdown",
      "metadata": {
        "id": "lCAYtfza7yTq",
        "colab_type": "text"
      },
      "source": [
        "#### What is this telling us?"
      ]
    },
    {
      "cell_type": "markdown",
      "metadata": {
        "id": "MyuciD277ygU",
        "colab_type": "text"
      },
      "source": [
        "The graph above shows the total points in descending order scored by the losing teams throughout March Madness. Sitting at the bottom of this list with the leas amount of points scored by a losing team in March Madness is Cal Poly. On the other hand, the list has Arizona sitting at the top with the most points scored in March Madness by a losing team. By looking at this graph, we are able to rank each team in order based on the amount of points they scored. The graph shows these teams in descending order and shows where each team stands compared to the others.  "
      ]
    },
    {
      "cell_type": "markdown",
      "metadata": {
        "id": "dGDGl8-G7y8Y",
        "colab_type": "text"
      },
      "source": [
        "### Distribution\n"
      ]
    },
    {
      "cell_type": "markdown",
      "metadata": {
        "id": "FB0uV-jy76p9",
        "colab_type": "text"
      },
      "source": [
        "![alt text](https://raw.githubusercontent.com/Jflatley22/SRA-268/master/images/Distribution.png)"
      ]
    },
    {
      "cell_type": "markdown",
      "metadata": {
        "id": "_6SOzhrQ76zH",
        "colab_type": "text"
      },
      "source": [
        "#### What is this telling us?"
      ]
    },
    {
      "cell_type": "markdown",
      "metadata": {
        "id": "HBWqsS_g767h",
        "colab_type": "text"
      },
      "source": [
        "The histogram above shows the amount of losing points broken up into intervals, and how many teams lost by that number of points. 458 teams lost with a score of 58 total points. This is the most amount of teams that lost after scoring that amount of points throughout the duration of March Madness. The graph also shows that the range of most commonly scored points by a losing team is between 53 and 65 with the majority of teams falling between these points.This shows that it is more likely for other losing teams to fall within this point range during March Madness."
      ]
    },
    {
      "cell_type": "markdown",
      "metadata": {
        "id": "wQsDThk677Fy",
        "colab_type": "text"
      },
      "source": [
        "### Change over Time\n"
      ]
    },
    {
      "cell_type": "markdown",
      "metadata": {
        "id": "Z1j_YLOA7_OK",
        "colab_type": "text"
      },
      "source": [
        "![alt text](https://raw.githubusercontent.com/sprib012/SRA268/master/Download%20Image-4.png)"
      ]
    },
    {
      "cell_type": "markdown",
      "metadata": {
        "id": "mpfsmmgi7_Vj",
        "colab_type": "text"
      },
      "source": [
        "#### What is this telling us?"
      ]
    },
    {
      "cell_type": "markdown",
      "metadata": {
        "id": "rYLXoMMO7_di",
        "colab_type": "text"
      },
      "source": [
        "This graph shows the points that losing teams have had overtime throughout each year of March Madness.The lowest the graph hit was in the 1985 and when losing teams accounted for about 3,600 points throughout the entire tournament. The graph manages to fluctuate a lot moving up and down throughout the years, however it manages to stay relatively consistent. Every year is at most within 1,000 points of the last year. While there are many times the graph moves up in down due to the points scored, it manages to stay within that range. The highest the graph hits is the last year that we have records of which is a little over 4,600 points in 2017."
      ]
    },
    {
      "cell_type": "markdown",
      "metadata": {
        "id": "lFwiHoE-7_jZ",
        "colab_type": "text"
      },
      "source": [
        "### Magnitude\n"
      ]
    },
    {
      "cell_type": "markdown",
      "metadata": {
        "id": "ICQFnXj78EbF",
        "colab_type": "text"
      },
      "source": [
        "![alt text](https://raw.githubusercontent.com/Jflatley22/SRA-268/master/images/Mag2.png)"
      ]
    },
    {
      "cell_type": "markdown",
      "metadata": {
        "id": "QGG7XYG88Eii",
        "colab_type": "text"
      },
      "source": [
        "#### What is this telling us?"
      ]
    },
    {
      "cell_type": "markdown",
      "metadata": {
        "id": "VS7uGa0l8Eos",
        "colab_type": "text"
      },
      "source": [
        "The graph above shows each winning team in March Madness, and the amount of points that they have accumulated throughout March Madness. The team with the most points overall is the Wildcats and then followed by the Blue Devils. There are many teams sitting at the bottom tied for the least amount of points. This graph helps compare each team side by side to show which teams overall have scored more points than others. This can be for a variety of reasons including some teams playing in more games than others which therefore makes their point total higher. It is interesting to look at the graph as a whole to see where each team is throughout the history of March Madness."
      ]
    },
    {
      "cell_type": "markdown",
      "metadata": {
        "id": "bEKFxP8R8Evk",
        "colab_type": "text"
      },
      "source": [
        "### Part-to-Whole\n"
      ]
    },
    {
      "cell_type": "markdown",
      "metadata": {
        "id": "WFHlcYKV8E35",
        "colab_type": "text"
      },
      "source": [
        "![alt text](https://raw.githubusercontent.com/cwilliamson1229/Lab2/master/Part-to-Whole/Part-to-Whole.jpg)"
      ]
    },
    {
      "cell_type": "markdown",
      "metadata": {
        "id": "PNSd3wlp8UZH",
        "colab_type": "text"
      },
      "source": [
        "#### What is this telling us?"
      ]
    },
    {
      "cell_type": "markdown",
      "metadata": {
        "id": "y9tb_QRA8aqt",
        "colab_type": "text"
      },
      "source": [
        "The graph above compares the amount of winning points for each kingdom that a team's mascot belongs to. The Animalia kingdom dominates the plantae kingdom in this category. The Animalia kingdom has collected 135,500 points while the Plantae kingdom has only 8,871. That is a difference of 126,629 points between these mascot kingdoms. The Animalia kingdom makes up for a total of 93.86% of the points scored in March Madness. The Plantae kingdom on the other hand makes up for only 7.14% of the points that were scored during March Madness. Such a difference in points can be the result of the Animalia teams scoring more points, and more of the teams in March Madness falling under this category."
      ]
    }
  ]
}