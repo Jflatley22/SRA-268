{
  "nbformat": 4,
  "nbformat_minor": 0,
  "metadata": {
    "colab": {
      "name": "Flatley Lab 1 SRA",
      "provenance": [],
      "authorship_tag": "ABX9TyPET2RHco5yFyVqecZFJj0k"
    },
    "kernelspec": {
      "name": "python3",
      "display_name": "Python 3"
    }
  },
  "cells": [
    {
      "cell_type": "markdown",
      "metadata": {
        "id": "-VetKmMh1WrZ",
        "colab_type": "text"
      },
      "source": [
        "# **Total Snowfall First 3 Months of 2017 in State College**"
      ]
    },
    {
      "cell_type": "markdown",
      "metadata": {
        "id": "R9GVzZBb7a8r",
        "colab_type": "text"
      },
      "source": [
        "### **Outline**"
      ]
    },
    {
      "cell_type": "markdown",
      "metadata": {
        "id": "7s4P5K-u1lMu",
        "colab_type": "text"
      },
      "source": [
        "The graph displays the total amount of snowfall in the first three months of 2017 in State College, PA. The first three months were chosen as it is the beginning of the new year, and also contains the majority of Winter for that year. The months chosen were January, Feburary and March, and are present on the X-axis of the graph. The amount of snowfall is shown in inches and displayed along the Y-axis."
      ]
    },
    {
      "cell_type": "markdown",
      "metadata": {
        "id": "KIAJd8oG1cwc",
        "colab_type": "text"
      },
      "source": [
        "### **Sketch**"
      ]
    },
    {
      "cell_type": "markdown",
      "metadata": {
        "id": "HI014SZnG_DB",
        "colab_type": "text"
      },
      "source": [
        "![alt text](https://raw.githubusercontent.com/Jflatley22/SRA-268/master/images/IMG_9577.jpg)"
      ]
    },
    {
      "cell_type": "markdown",
      "metadata": {
        "id": "xhRnH4fl1eHc",
        "colab_type": "text"
      },
      "source": [
        "### **Conclusion**"
      ]
    },
    {
      "cell_type": "markdown",
      "metadata": {
        "id": "67zqDEBoJbVJ",
        "colab_type": "text"
      },
      "source": [
        "The graph shows that over the course of these three months, the snowfall continued to increase. The total amount of snowfall in January was 5 inches, while Feburary had 9.5 inches, and March had the most snowfall with 16.3 inches. Despite being the closest to Spring, March managed to have the largest amount of snow out of these three months. March had more snow than both January and Feburary combined."
      ]
    }
  ]
}